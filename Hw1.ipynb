{
 "cells": [
  {
   "cell_type": "code",
   "execution_count": 1,
   "metadata": {},
   "outputs": [
    {
     "name": "stdout",
     "output_type": "stream",
     "text": [
      "[ 1  3  4  5  6  7  8  9 10]\n"
     ]
    }
   ],
   "source": [
    "import numpy as np\n",
    "\n",
    "# Task 1\n",
    "vector_1 = np.array([1, 3, 4, 5, 6, 7, 8, 9, 10])\n",
    "print(vector_1)"
   ]
  },
  {
   "cell_type": "code",
   "execution_count": 6,
   "metadata": {},
   "outputs": [
    {
     "name": "stdout",
     "output_type": "stream",
     "text": [
      "[[0 0 0]\n",
      " [0 0 0]\n",
      " [0 0 0]]\n"
     ]
    }
   ],
   "source": [
    "# Task 2\n",
    "mt = np.array([[0]*3]*3)\n",
    "print(mt)"
   ]
  },
  {
   "cell_type": "code",
   "execution_count": 4,
   "metadata": {},
   "outputs": [
    {
     "name": "stdout",
     "output_type": "stream",
     "text": [
      "[[5 0 5 5 1]\n",
      " [4 1 8 7 4]\n",
      " [1 8 0 6 1]\n",
      " [9 8 5 0 6]\n",
      " [6 5 1 0 9]]\n"
     ]
    }
   ],
   "source": [
    "# Task 3\n",
    "mt2 = np.random.randint(0, 10, (5, 5))\n",
    "print(mt2)"
   ]
  },
  {
   "cell_type": "code",
   "execution_count": 13,
   "metadata": {},
   "outputs": [
    {
     "name": "stdout",
     "output_type": "stream",
     "text": [
      "[[0.20705969 0.69070864 0.89861306 0.45530471]\n",
      " [0.20455715 0.29922572 0.25732835 0.23848023]\n",
      " [0.89806221 0.33455228 0.85277552 0.70124052]\n",
      " [0.0562441  0.16234419 0.08756811 0.09975092]]\n"
     ]
    }
   ],
   "source": [
    "# Task 4\n",
    "mt3 = np.random.rand(4, 4)\n",
    "print(mt3)"
   ]
  },
  {
   "cell_type": "code",
   "execution_count": 37,
   "metadata": {},
   "outputs": [],
   "source": [
    "# Task 5\n",
    "arr_1 = np.random.randint([np.random.randint(1, 10)]*5)\n",
    "arr_2 = np.random.randint([np.random.randint(1, 10)]*5)\n"
   ]
  },
  {
   "cell_type": "code",
   "execution_count": 40,
   "metadata": {},
   "outputs": [
    {
     "name": "stdout",
     "output_type": "stream",
     "text": [
      "[1 1 2 0 3] [5 6 3 0 7]\n",
      "arr_1 + arr_2 = [ 6  7  5  0 10]\n",
      "arr_1 - arr_2 = [-4 -5 -1  0 -4]\n",
      "arr_1 * arr_2 = [ 5  6  6  0 21]\n"
     ]
    }
   ],
   "source": [
    "print(arr_1, arr_2)\n",
    "print(F\"arr_1 + arr_2 = {arr_1 + arr_2}\")\n",
    "print(F\"arr_1 - arr_2 = {arr_1 - arr_2}\")\n",
    "print(F\"arr_1 * arr_2 = {arr_1 * arr_2}\")"
   ]
  },
  {
   "cell_type": "code",
   "execution_count": 42,
   "metadata": {},
   "outputs": [],
   "source": [
    "# Task 6\n",
    "vect_1 = np.random.randint([np.random.randint(5, 56)]*7)\n",
    "vect_2 = np.random.randint([np.random.randint(15, 155)]*7)"
   ]
  },
  {
   "cell_type": "code",
   "execution_count": 43,
   "metadata": {},
   "outputs": [
    {
     "name": "stdout",
     "output_type": "stream",
     "text": [
      "скалярний добуток [25  2 38  2 36 19 10] i [29 70 99 52 96 78 93] = 10599\n"
     ]
    }
   ],
   "source": [
    "print(f\"скалярний добуток {vect_1} i {vect_2} = {np.dot(vect_1, vect_2)}\")"
   ]
  },
  {
   "cell_type": "code",
   "execution_count": 48,
   "metadata": {},
   "outputs": [],
   "source": [
    "# Task 7\n",
    "arr1 = np.random.randint(1, 10, (2, 2))\n",
    "arr2 = np.random.randint(1, 10, (2, 3))"
   ]
  },
  {
   "cell_type": "code",
   "execution_count": 51,
   "metadata": {},
   "outputs": [
    {
     "name": "stdout",
     "output_type": "stream",
     "text": [
      "[[9 8]\n",
      " [8 8]] * [[8 4 7]\n",
      " [1 1 5]] = [[ 80  44 103]\n",
      " [ 72  40  96]]\n"
     ]
    }
   ],
   "source": [
    "print(f\"{arr1} * {arr2} = {np.dot(arr1, arr2)}\")"
   ]
  },
  {
   "cell_type": "code",
   "execution_count": 54,
   "metadata": {},
   "outputs": [],
   "source": [
    "# Task 8\n",
    "arr = np.random.randint(1, 10, (3, 3))"
   ]
  },
  {
   "cell_type": "code",
   "execution_count": 57,
   "metadata": {},
   "outputs": [
    {
     "name": "stdout",
     "output_type": "stream",
     "text": [
      "[[1 9 7]\n",
      " [2 2 7]\n",
      " [9 6 7]]\n",
      "Inv arr = [[-0.0754717  -0.05660377  0.13207547]\n",
      " [ 0.13207547 -0.1509434   0.01886792]\n",
      " [-0.01617251  0.20215633 -0.04312668]]\n"
     ]
    }
   ],
   "source": [
    "print(arr)\n",
    "arr_inv = np.linalg.inv(arr)\n",
    "print(f\"Inv arr = {arr_inv}\")"
   ]
  },
  {
   "cell_type": "code",
   "execution_count": 58,
   "metadata": {},
   "outputs": [],
   "source": [
    "# Task 9\n",
    "arr = np.random.rand(4, 4)\n"
   ]
  },
  {
   "cell_type": "code",
   "execution_count": 60,
   "metadata": {},
   "outputs": [
    {
     "name": "stdout",
     "output_type": "stream",
     "text": [
      "[[0.55816829 0.10782529 0.7213657  0.8667135 ]\n",
      " [0.5001594  0.88698853 0.79549973 0.90626301]\n",
      " [0.98044731 0.31913612 0.94656423 0.93396063]\n",
      " [0.72350875 0.29691404 0.34133638 0.64273306]]\n",
      "Транспонована матриця:\n",
      " [[0.55816829 0.5001594  0.98044731 0.72350875]\n",
      " [0.10782529 0.88698853 0.31913612 0.29691404]\n",
      " [0.7213657  0.79549973 0.94656423 0.34133638]\n",
      " [0.8667135  0.90626301 0.93396063 0.64273306]]\n"
     ]
    }
   ],
   "source": [
    "print(arr)\n",
    "print(f\"Транспонована матриця:\\n {arr.T}\")"
   ]
  },
  {
   "cell_type": "code",
   "execution_count": 70,
   "metadata": {},
   "outputs": [],
   "source": [
    "# Task 10\n",
    "arr = np.random.randint(1, 10, (3, 4))\n",
    "vect = np.random.randint([np.random.randint(1, 10)]*4)\n"
   ]
  },
  {
   "cell_type": "code",
   "execution_count": 71,
   "metadata": {},
   "outputs": [
    {
     "name": "stdout",
     "output_type": "stream",
     "text": [
      "arr * vect = [24 52 29]\n"
     ]
    }
   ],
   "source": [
    "res = np.dot(arr, vect)\n",
    "print(f\"arr * vect = {res}\")"
   ]
  },
  {
   "cell_type": "code",
   "execution_count": 83,
   "metadata": {},
   "outputs": [],
   "source": [
    "# Task 11\n",
    "arr = np.random.rand(3, 4)\n",
    "vect = np.random.ranf(4)"
   ]
  },
  {
   "cell_type": "code",
   "execution_count": 89,
   "metadata": {},
   "outputs": [
    {
     "name": "stdout",
     "output_type": "stream",
     "text": [
      "arr * vect = [1.26632801 1.42892483 0.85591447]\n"
     ]
    }
   ],
   "source": [
    "res = np.dot(arr, vect)\n",
    "print(f\"arr * vect = {res}\")"
   ]
  },
  {
   "cell_type": "code",
   "execution_count": 86,
   "metadata": {},
   "outputs": [],
   "source": [
    "# Task 12\n",
    "arr1 = np.random.randint(1, 10, (2, 2))\n",
    "arr2 = np.random.randint(1, 10, (2, 2))"
   ]
  },
  {
   "cell_type": "code",
   "execution_count": 87,
   "metadata": {},
   "outputs": [
    {
     "name": "stdout",
     "output_type": "stream",
     "text": [
      "arr1 * arr2 = [[36 36]\n",
      " [45 42]]\n"
     ]
    }
   ],
   "source": [
    "print(f\"arr1 * arr2 = {arr1 * arr2}\")"
   ]
  },
  {
   "cell_type": "code",
   "execution_count": 90,
   "metadata": {},
   "outputs": [],
   "source": [
    "# Task 13\n",
    "arr1 = np.random.randint(1, 10, (2, 2))\n",
    "arr2 = np.random.randint(1, 10, (2, 2))"
   ]
  },
  {
   "cell_type": "code",
   "execution_count": 91,
   "metadata": {},
   "outputs": [
    {
     "name": "stdout",
     "output_type": "stream",
     "text": [
      "[[87 93]\n",
      " [67 89]]\n"
     ]
    }
   ],
   "source": [
    "res = np.dot(arr1, arr2)\n",
    "print(res)"
   ]
  },
  {
   "cell_type": "code",
   "execution_count": 94,
   "metadata": {},
   "outputs": [],
   "source": [
    "# Task 14\n",
    "arr = np.random.randint(1, 100, (5, 5))"
   ]
  },
  {
   "cell_type": "code",
   "execution_count": 96,
   "metadata": {},
   "outputs": [
    {
     "name": "stdout",
     "output_type": "stream",
     "text": [
      "[[95 24 42 41 75]\n",
      " [67 27 24 88 94]\n",
      " [ 2 46 89 14 23]\n",
      " [35 91 24 66 11]\n",
      " [28 21 76 43 55]]\n",
      "1201\n"
     ]
    }
   ],
   "source": [
    "print(arr)\n",
    "print(arr.sum())"
   ]
  },
  {
   "cell_type": "code",
   "execution_count": 97,
   "metadata": {},
   "outputs": [],
   "source": [
    "# Task 15\n",
    "arr1 = np.random.randint(1, 10, (4, 4))\n",
    "arr2 = np.random.randint(1, 10, (4, 4))"
   ]
  },
  {
   "cell_type": "code",
   "execution_count": 98,
   "metadata": {},
   "outputs": [
    {
     "name": "stdout",
     "output_type": "stream",
     "text": [
      "[[ 4  1 -2  5]\n",
      " [ 6 -3  0  3]\n",
      " [ 1 -2 -7  3]\n",
      " [ 6 -5  0 -2]]\n"
     ]
    }
   ],
   "source": [
    "print(arr1 - arr2)"
   ]
  },
  {
   "cell_type": "code",
   "execution_count": 101,
   "metadata": {},
   "outputs": [],
   "source": [
    "# Task 16\n",
    "arr = np.random.rand(3, 3)"
   ]
  },
  {
   "cell_type": "code",
   "execution_count": 105,
   "metadata": {},
   "outputs": [
    {
     "name": "stdout",
     "output_type": "stream",
     "text": [
      "[[0.96146759 0.85626962 0.37037536]\n",
      " [0.94706656 0.70371681 0.39935142]\n",
      " [0.5122887  0.45976029 0.40393289]]\n",
      "[2.18811257 2.05013479 1.37598187]\n"
     ]
    }
   ],
   "source": [
    "print(arr)\n",
    "print(arr.sum(axis=1))"
   ]
  },
  {
   "cell_type": "code",
   "execution_count": 106,
   "metadata": {},
   "outputs": [],
   "source": [
    "# Task 17\n",
    "arr = np.random.randint(2, 64, (3, 4))"
   ]
  },
  {
   "cell_type": "code",
   "execution_count": 107,
   "metadata": {},
   "outputs": [
    {
     "name": "stdout",
     "output_type": "stream",
     "text": [
      "[[19 43 17 50]\n",
      " [12 59 44 40]\n",
      " [60 30 22 31]]\n",
      "[[4.35889894 6.55743852 4.12310563 7.07106781]\n",
      " [3.46410162 7.68114575 6.63324958 6.32455532]\n",
      " [7.74596669 5.47722558 4.69041576 5.56776436]]\n"
     ]
    }
   ],
   "source": [
    "print(arr)\n",
    "print(arr ** 0.5)"
   ]
  },
  {
   "cell_type": "code",
   "execution_count": 110,
   "metadata": {},
   "outputs": [],
   "source": [
    "# Task 18\n",
    "vect = np.random.randint([np.random.randint(1, 50)]*4)"
   ]
  },
  {
   "cell_type": "code",
   "execution_count": 111,
   "metadata": {},
   "outputs": [
    {
     "name": "stdout",
     "output_type": "stream",
     "text": [
      "[20  5  5 18]\n",
      "[4.47213595 2.23606798 2.23606798 4.24264069]\n"
     ]
    }
   ],
   "source": [
    "print(vect)\n",
    "print(np.sqrt(vect))"
   ]
  }
 ],
 "metadata": {
  "kernelspec": {
   "display_name": "Python 3",
   "language": "python",
   "name": "python3"
  },
  "language_info": {
   "codemirror_mode": {
    "name": "ipython",
    "version": 3
   },
   "file_extension": ".py",
   "mimetype": "text/x-python",
   "name": "python",
   "nbconvert_exporter": "python",
   "pygments_lexer": "ipython3",
   "version": "3.12.2"
  }
 },
 "nbformat": 4,
 "nbformat_minor": 2
}
